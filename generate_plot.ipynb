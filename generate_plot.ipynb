{
 "cells": [
  {
   "cell_type": "code",
   "execution_count": 1,
   "metadata": {},
   "outputs": [],
   "source": [
    "import yaml\n",
    "\n",
    "import matplotlib.pylab as plt\n",
    "import torch\n",
    "import transformers\n",
    "from transformers import AutoTokenizer, AutoModel\n",
    "\n",
    "from model.generator import GeneratorNet\n",
    "from utils import load_checkpoint\n",
    "\n",
    "transformers.logging.set_verbosity_error()\n",
    "%matplotlib inline"
   ]
  },
  {
   "cell_type": "code",
   "execution_count": 2,
   "metadata": {},
   "outputs": [],
   "source": [
    "with open(\"config.yaml\") as f:\n",
    "    configs = yaml.safe_load(f)\n",
    "\n",
    "\n",
    "model = GeneratorNet(\n",
    "    configs[\"model\"][\"text_dim\"],\n",
    "    configs[\"model\"][\"embedding_dim\"],\n",
    "    configs[\"model\"][\"noise_dim\"],\n",
    "    configs[\"model\"][\"gen_channels\"],\n",
    "    configs[\"image\"][\"resolution\"],\n",
    ")\n",
    "load_checkpoint(\"../check_points/2/generator.ckpt\", model)"
   ]
  },
  {
   "cell_type": "code",
   "execution_count": 6,
   "metadata": {},
   "outputs": [],
   "source": [
    "pretrain_model = \"albert-base-v2\"\n",
    "tokenizer = AutoTokenizer.from_pretrained(pretrain_model)\n",
    "langage_model = AutoModel.from_pretrained(pretrain_model)\n",
    "\n",
    "\n",
    "sentence = \"Ghost In The Shell\"\n",
    "words = tokenizer(sentence.split(), padding=True, return_tensors=\"pt\")\n",
    "words = langage_model(**words).last_hidden_state\n",
    "words = torch.mean(words, axis=[0, 1]).expand(configs[\"training\"][\"batch_size\"], -1)\n",
    "\n",
    "noise = torch.zeros(configs[\"training\"][\"batch_size\"], configs[\"model\"][\"noise_dim\"])"
   ]
  },
  {
   "cell_type": "code",
   "execution_count": 8,
   "metadata": {},
   "outputs": [],
   "source": [
    "model.eval()\n",
    "with torch.no_grad():\n",
    "    fake_images, _, _ = model(words, noise)\n",
    "\n",
    "\n",
    "fig, ax = plt.subplots(1, 1, figsize = (7, 7))\n",
    "ax.imshow(fake_images[-1][0].numpy().squeeze(), cmap=\"gray\")\n",
    "ax.axis(\"off\")\n",
    "ax.set_title(sentence, fontsize=20)\n",
    "plt.show()"
   ]
  },
  {
   "cell_type": "code",
   "execution_count": null,
   "metadata": {},
   "outputs": [],
   "source": []
  }
 ],
 "metadata": {
  "interpreter": {
   "hash": "1529e5387f386e88c74f27f3edebfd67428c7ee763a1454768de49b1ceee2fcf"
  },
  "kernelspec": {
   "display_name": "Python 3.8.9 ('.env': venv)",
   "language": "python",
   "name": "python3"
  },
  "language_info": {
   "codemirror_mode": {
    "name": "ipython",
    "version": 3
   },
   "file_extension": ".py",
   "mimetype": "text/x-python",
   "name": "python",
   "nbconvert_exporter": "python",
   "pygments_lexer": "ipython3",
   "version": "3.8.9"
  },
  "orig_nbformat": 4
 },
 "nbformat": 4,
 "nbformat_minor": 2
}
